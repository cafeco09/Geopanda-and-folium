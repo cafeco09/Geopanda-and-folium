{
 "cells": [
  {
   "cell_type": "code",
   "execution_count": 5,
   "id": "bf905904",
   "metadata": {},
   "outputs": [],
   "source": [
    "import pandas as pd\n",
    "import numpy as np\n",
    "import matplotlib.pyplot as plt\n",
    "import seaborn as sns"
   ]
  },
  {
   "cell_type": "code",
   "execution_count": 6,
   "id": "7bdae5f6",
   "metadata": {},
   "outputs": [],
   "source": [
    "data = pd.read_csv(\"unicef-changing-childhood-data.csv\")"
   ]
  },
  {
   "cell_type": "code",
   "execution_count": 7,
   "id": "23c1c0c2",
   "metadata": {},
   "outputs": [
    {
     "data": {
      "text/html": [
       "<div>\n",
       "<style scoped>\n",
       "    .dataframe tbody tr th:only-of-type {\n",
       "        vertical-align: middle;\n",
       "    }\n",
       "\n",
       "    .dataframe tbody tr th {\n",
       "        vertical-align: top;\n",
       "    }\n",
       "\n",
       "    .dataframe thead th {\n",
       "        text-align: right;\n",
       "    }\n",
       "</style>\n",
       "<table border=\"1\" class=\"dataframe\">\n",
       "  <thead>\n",
       "    <tr style=\"text-align: right;\">\n",
       "      <th></th>\n",
       "      <th>WP5</th>\n",
       "      <th>WP22140</th>\n",
       "      <th>WT</th>\n",
       "      <th>RESPONDENT_NUM_TOTAL</th>\n",
       "      <th>WP22070</th>\n",
       "      <th>WP22071</th>\n",
       "      <th>WP22072</th>\n",
       "      <th>WP22073</th>\n",
       "      <th>WP22074</th>\n",
       "      <th>WP22075</th>\n",
       "      <th>...</th>\n",
       "      <th>WP3117</th>\n",
       "      <th>WP12</th>\n",
       "      <th>WP1230RECODED</th>\n",
       "      <th>WP1233RECODED</th>\n",
       "      <th>INCOME_5</th>\n",
       "      <th>WP2319</th>\n",
       "      <th>WP4657</th>\n",
       "      <th>WP16056</th>\n",
       "      <th>URBANICITY</th>\n",
       "      <th>COUNTRYNEW</th>\n",
       "    </tr>\n",
       "  </thead>\n",
       "  <tbody>\n",
       "    <tr>\n",
       "      <th>0</th>\n",
       "      <td>87</td>\n",
       "      <td>1</td>\n",
       "      <td>0.961969</td>\n",
       "      <td>8700000001</td>\n",
       "      <td>2</td>\n",
       "      <td>1</td>\n",
       "      <td>1</td>\n",
       "      <td>2</td>\n",
       "      <td>2</td>\n",
       "      <td>1</td>\n",
       "      <td>...</td>\n",
       "      <td>2</td>\n",
       "      <td>4</td>\n",
       "      <td>1</td>\n",
       "      <td>1</td>\n",
       "      <td>3</td>\n",
       "      <td>2</td>\n",
       "      <td>1</td>\n",
       "      <td>1</td>\n",
       "      <td>2</td>\n",
       "      <td>Argentina</td>\n",
       "    </tr>\n",
       "    <tr>\n",
       "      <th>1</th>\n",
       "      <td>87</td>\n",
       "      <td>2</td>\n",
       "      <td>0.512150</td>\n",
       "      <td>8700000002</td>\n",
       "      <td>1</td>\n",
       "      <td>1</td>\n",
       "      <td>1</td>\n",
       "      <td>1</td>\n",
       "      <td>1</td>\n",
       "      <td>4</td>\n",
       "      <td>...</td>\n",
       "      <td>2</td>\n",
       "      <td>3</td>\n",
       "      <td>2</td>\n",
       "      <td>1</td>\n",
       "      <td>4</td>\n",
       "      <td>1</td>\n",
       "      <td>1</td>\n",
       "      <td>2</td>\n",
       "      <td>1</td>\n",
       "      <td>Argentina</td>\n",
       "    </tr>\n",
       "    <tr>\n",
       "      <th>2</th>\n",
       "      <td>87</td>\n",
       "      <td>2</td>\n",
       "      <td>0.277594</td>\n",
       "      <td>8700000003</td>\n",
       "      <td>2</td>\n",
       "      <td>1</td>\n",
       "      <td>1</td>\n",
       "      <td>1</td>\n",
       "      <td>1</td>\n",
       "      <td>1</td>\n",
       "      <td>...</td>\n",
       "      <td>2</td>\n",
       "      <td>1</td>\n",
       "      <td>2</td>\n",
       "      <td>6</td>\n",
       "      <td>5</td>\n",
       "      <td>2</td>\n",
       "      <td>1</td>\n",
       "      <td>1</td>\n",
       "      <td>2</td>\n",
       "      <td>Argentina</td>\n",
       "    </tr>\n",
       "    <tr>\n",
       "      <th>3</th>\n",
       "      <td>87</td>\n",
       "      <td>1</td>\n",
       "      <td>0.403558</td>\n",
       "      <td>8700000004</td>\n",
       "      <td>1</td>\n",
       "      <td>2</td>\n",
       "      <td>1</td>\n",
       "      <td>2</td>\n",
       "      <td>2</td>\n",
       "      <td>2</td>\n",
       "      <td>...</td>\n",
       "      <td>2</td>\n",
       "      <td>3</td>\n",
       "      <td>2</td>\n",
       "      <td>6</td>\n",
       "      <td>1</td>\n",
       "      <td>3</td>\n",
       "      <td>1</td>\n",
       "      <td>1</td>\n",
       "      <td>1</td>\n",
       "      <td>Argentina</td>\n",
       "    </tr>\n",
       "    <tr>\n",
       "      <th>4</th>\n",
       "      <td>87</td>\n",
       "      <td>2</td>\n",
       "      <td>0.274666</td>\n",
       "      <td>8700000005</td>\n",
       "      <td>2</td>\n",
       "      <td>1</td>\n",
       "      <td>3</td>\n",
       "      <td>2</td>\n",
       "      <td>3</td>\n",
       "      <td>2</td>\n",
       "      <td>...</td>\n",
       "      <td>2</td>\n",
       "      <td>4</td>\n",
       "      <td>2</td>\n",
       "      <td>1</td>\n",
       "      <td>3</td>\n",
       "      <td>1</td>\n",
       "      <td>1</td>\n",
       "      <td>1</td>\n",
       "      <td>2</td>\n",
       "      <td>Argentina</td>\n",
       "    </tr>\n",
       "  </tbody>\n",
       "</table>\n",
       "<p>5 rows × 89 columns</p>\n",
       "</div>"
      ],
      "text/plain": [
       "   WP5  WP22140        WT  RESPONDENT_NUM_TOTAL  WP22070  WP22071  WP22072  \\\n",
       "0   87        1  0.961969            8700000001        2        1        1   \n",
       "1   87        2  0.512150            8700000002        1        1        1   \n",
       "2   87        2  0.277594            8700000003        2        1        1   \n",
       "3   87        1  0.403558            8700000004        1        2        1   \n",
       "4   87        2  0.274666            8700000005        2        1        3   \n",
       "\n",
       "   WP22073  WP22074  WP22075  ... WP3117  WP12  WP1230RECODED  WP1233RECODED  \\\n",
       "0        2        2        1  ...      2     4              1              1   \n",
       "1        1        1        4  ...      2     3              2              1   \n",
       "2        1        1        1  ...      2     1              2              6   \n",
       "3        2        2        2  ...      2     3              2              6   \n",
       "4        2        3        2  ...      2     4              2              1   \n",
       "\n",
       "   INCOME_5  WP2319  WP4657  WP16056  URBANICITY  COUNTRYNEW  \n",
       "0         3       2       1        1           2   Argentina  \n",
       "1         4       1       1        2           1   Argentina  \n",
       "2         5       2       1        1           2   Argentina  \n",
       "3         1       3       1        1           1   Argentina  \n",
       "4         3       1       1        1           2   Argentina  \n",
       "\n",
       "[5 rows x 89 columns]"
      ]
     },
     "execution_count": 7,
     "metadata": {},
     "output_type": "execute_result"
    }
   ],
   "source": [
    "data.head()"
   ]
  },
  {
   "cell_type": "code",
   "execution_count": 8,
   "id": "3a4a540c",
   "metadata": {},
   "outputs": [],
   "source": [
    "data = data.rename(columns={'WP1230RECODED': 'children_age', 'WP22121': 'Importance of Treating Racial and Ethnic Minorities Equally', \"WP22122\" : \"Importance of treating Religious minorities equally\", \"WP22123\": \"Treating Females Equally\"})\n"
   ]
  },
  {
   "cell_type": "code",
   "execution_count": 9,
   "id": "38ece3d8",
   "metadata": {},
   "outputs": [],
   "source": [
    "Racial_and_Religious =data[\"Importance of Treating Racial and Ethnic Minorities Equally\"]"
   ]
  },
  {
   "cell_type": "code",
   "execution_count": 10,
   "id": "f4d4b4b5",
   "metadata": {},
   "outputs": [],
   "source": [
    "Religious_minorities = data[\"Importance of treating Religious minorities equally\"]"
   ]
  },
  {
   "cell_type": "code",
   "execution_count": 11,
   "id": "742621e1",
   "metadata": {},
   "outputs": [],
   "source": [
    "Females_treatment= data[\"Treating Females Equally\"]"
   ]
  },
  {
   "cell_type": "code",
   "execution_count": 12,
   "id": "e44805e3",
   "metadata": {},
   "outputs": [],
   "source": [
    "children = data[\"children_age\"]"
   ]
  },
  {
   "cell_type": "code",
   "execution_count": 13,
   "id": "98fcf590",
   "metadata": {},
   "outputs": [
    {
     "data": {
      "text/plain": [
       "0        1\n",
       "1        2\n",
       "2        2\n",
       "3        2\n",
       "4        2\n",
       "        ..\n",
       "22038    2\n",
       "22039    1\n",
       "22040    1\n",
       "22041    1\n",
       "22042    2\n",
       "Name: children_age, Length: 22043, dtype: int64"
      ]
     },
     "execution_count": 13,
     "metadata": {},
     "output_type": "execute_result"
    }
   ],
   "source": [
    "children"
   ]
  },
  {
   "cell_type": "code",
   "execution_count": 14,
   "id": "3b1c9da9",
   "metadata": {},
   "outputs": [],
   "source": [
    "gender = data[\"WP1219\"]"
   ]
  },
  {
   "cell_type": "code",
   "execution_count": 15,
   "id": "0452565c",
   "metadata": {},
   "outputs": [],
   "source": [
    "\n",
    "data = data.rename(columns={'WP1230RECODED': 'children_age', 'WP22121': 'Importance of Treating Racial and Ethnic Minorities Equally', \"WP22122\" : \"Importance of treating Religious minorities equally\", \"WP22123\": \"Treating Females Equally\"})\n"
   ]
  },
  {
   "cell_type": "code",
   "execution_count": 16,
   "id": "31a94b59",
   "metadata": {},
   "outputs": [
    {
     "name": "stderr",
     "output_type": "stream",
     "text": [
      "/Users/anshuldixit/opt/anaconda3/envs/geo_env/lib/python3.10/site-packages/seaborn/_decorators.py:36: FutureWarning: Pass the following variables as keyword args: x, y. From version 0.12, the only valid positional argument will be `data`, and passing other arguments without an explicit keyword will result in an error or misinterpretation.\n",
      "  warnings.warn(\n"
     ]
    },
    {
     "data": {
      "text/plain": [
       "(1.0, 15.0)"
      ]
     },
     "execution_count": 16,
     "metadata": {},
     "output_type": "execute_result"
    },
    {
     "data": {
      "image/png": "[encoded data removed]",
      "text/plain": [
       "<Figure size 432x288 with 1 Axes>"
      ]
     },
     "metadata": {
      "needs_background": "light"
     },
     "output_type": "display_data"
    }
   ],
   "source": [
    "data2 = sns.lineplot(children,Racial_and_Religious, color = 'red')\n",
    "data2.set_xlim(1, 15)\n"
   ]
  },
  {
   "cell_type": "code",
   "execution_count": 17,
   "id": "7c926610",
   "metadata": {},
   "outputs": [
    {
     "name": "stderr",
     "output_type": "stream",
     "text": [
      "/Users/anshuldixit/opt/anaconda3/envs/geo_env/lib/python3.10/site-packages/seaborn/_decorators.py:36: FutureWarning: Pass the following variables as keyword args: x, y. From version 0.12, the only valid positional argument will be `data`, and passing other arguments without an explicit keyword will result in an error or misinterpretation.\n",
      "  warnings.warn(\n"
     ]
    },
    {
     "data": {
      "text/plain": [
       "(1.0, 15.0)"
      ]
     },
     "execution_count": 17,
     "metadata": {},
     "output_type": "execute_result"
    },
    {
     "data": {
      "image/png": "[encoded data removed]",
      "text/plain": [
       "<Figure size 432x288 with 1 Axes>"
      ]
     },
     "metadata": {
      "needs_background": "light"
     },
     "output_type": "display_data"
    }
   ],
   "source": [
    "data3 = sns.lineplot(children,Religious_minorities, color = 'blue')\n",
    "data3.set_xlim(1, 15)\n",
    "\n"
   ]
  },
  {
   "cell_type": "code",
   "execution_count": 18,
   "id": "6468c2b4",
   "metadata": {},
   "outputs": [
    {
     "name": "stderr",
     "output_type": "stream",
     "text": [
      "/Users/anshuldixit/opt/anaconda3/envs/geo_env/lib/python3.10/site-packages/seaborn/_decorators.py:36: FutureWarning: Pass the following variables as keyword args: x, y. From version 0.12, the only valid positional argument will be `data`, and passing other arguments without an explicit keyword will result in an error or misinterpretation.\n",
      "  warnings.warn(\n"
     ]
    },
    {
     "data": {
      "text/plain": [
       "(1.0, 15.0)"
      ]
     },
     "execution_count": 18,
     "metadata": {},
     "output_type": "execute_result"
    },
    {
     "data": {
      "image/png": "[encoded data removed]",
      "text/plain": [
       "<Figure size 432x288 with 1 Axes>"
      ]
     },
     "metadata": {
      "needs_background": "light"
     },
     "output_type": "display_data"
    }
   ],
   "source": [
    "data4 = sns.lineplot( children, Females_treatment ,color = 'Orange')\n",
    "data4.set_xlim(1, 15)\n",
    "\n"
   ]
  },
  {
   "cell_type": "code",
   "execution_count": 19,
   "id": "1b1ded1d",
   "metadata": {},
   "outputs": [
    {
     "data": {
      "text/html": [
       "<div>\n",
       "<style scoped>\n",
       "    .dataframe tbody tr th:only-of-type {\n",
       "        vertical-align: middle;\n",
       "    }\n",
       "\n",
       "    .dataframe tbody tr th {\n",
       "        vertical-align: top;\n",
       "    }\n",
       "\n",
       "    .dataframe thead th {\n",
       "        text-align: right;\n",
       "    }\n",
       "</style>\n",
       "<table border=\"1\" class=\"dataframe\">\n",
       "  <thead>\n",
       "    <tr style=\"text-align: right;\">\n",
       "      <th></th>\n",
       "      <th>WP5</th>\n",
       "      <th>WP22140</th>\n",
       "      <th>WT</th>\n",
       "      <th>RESPONDENT_NUM_TOTAL</th>\n",
       "      <th>WP22070</th>\n",
       "      <th>WP22071</th>\n",
       "      <th>WP22072</th>\n",
       "      <th>WP22073</th>\n",
       "      <th>WP22074</th>\n",
       "      <th>WP22075</th>\n",
       "      <th>...</th>\n",
       "      <th>WP3117</th>\n",
       "      <th>WP12</th>\n",
       "      <th>children_age</th>\n",
       "      <th>WP1233RECODED</th>\n",
       "      <th>INCOME_5</th>\n",
       "      <th>WP2319</th>\n",
       "      <th>WP4657</th>\n",
       "      <th>WP16056</th>\n",
       "      <th>URBANICITY</th>\n",
       "      <th>COUNTRYNEW</th>\n",
       "    </tr>\n",
       "  </thead>\n",
       "  <tbody>\n",
       "    <tr>\n",
       "      <th>0</th>\n",
       "      <td>87</td>\n",
       "      <td>1</td>\n",
       "      <td>0.961969</td>\n",
       "      <td>8700000001</td>\n",
       "      <td>2</td>\n",
       "      <td>1</td>\n",
       "      <td>1</td>\n",
       "      <td>2</td>\n",
       "      <td>2</td>\n",
       "      <td>1</td>\n",
       "      <td>...</td>\n",
       "      <td>2</td>\n",
       "      <td>4</td>\n",
       "      <td>1</td>\n",
       "      <td>1</td>\n",
       "      <td>3</td>\n",
       "      <td>2</td>\n",
       "      <td>1</td>\n",
       "      <td>1</td>\n",
       "      <td>2</td>\n",
       "      <td>Argentina</td>\n",
       "    </tr>\n",
       "    <tr>\n",
       "      <th>1</th>\n",
       "      <td>87</td>\n",
       "      <td>2</td>\n",
       "      <td>0.512150</td>\n",
       "      <td>8700000002</td>\n",
       "      <td>1</td>\n",
       "      <td>1</td>\n",
       "      <td>1</td>\n",
       "      <td>1</td>\n",
       "      <td>1</td>\n",
       "      <td>4</td>\n",
       "      <td>...</td>\n",
       "      <td>2</td>\n",
       "      <td>3</td>\n",
       "      <td>2</td>\n",
       "      <td>1</td>\n",
       "      <td>4</td>\n",
       "      <td>1</td>\n",
       "      <td>1</td>\n",
       "      <td>2</td>\n",
       "      <td>1</td>\n",
       "      <td>Argentina</td>\n",
       "    </tr>\n",
       "    <tr>\n",
       "      <th>2</th>\n",
       "      <td>87</td>\n",
       "      <td>2</td>\n",
       "      <td>0.277594</td>\n",
       "      <td>8700000003</td>\n",
       "      <td>2</td>\n",
       "      <td>1</td>\n",
       "      <td>1</td>\n",
       "      <td>1</td>\n",
       "      <td>1</td>\n",
       "      <td>1</td>\n",
       "      <td>...</td>\n",
       "      <td>2</td>\n",
       "      <td>1</td>\n",
       "      <td>2</td>\n",
       "      <td>6</td>\n",
       "      <td>5</td>\n",
       "      <td>2</td>\n",
       "      <td>1</td>\n",
       "      <td>1</td>\n",
       "      <td>2</td>\n",
       "      <td>Argentina</td>\n",
       "    </tr>\n",
       "    <tr>\n",
       "      <th>3</th>\n",
       "      <td>87</td>\n",
       "      <td>1</td>\n",
       "      <td>0.403558</td>\n",
       "      <td>8700000004</td>\n",
       "      <td>1</td>\n",
       "      <td>2</td>\n",
       "      <td>1</td>\n",
       "      <td>2</td>\n",
       "      <td>2</td>\n",
       "      <td>2</td>\n",
       "      <td>...</td>\n",
       "      <td>2</td>\n",
       "      <td>3</td>\n",
       "      <td>2</td>\n",
       "      <td>6</td>\n",
       "      <td>1</td>\n",
       "      <td>3</td>\n",
       "      <td>1</td>\n",
       "      <td>1</td>\n",
       "      <td>1</td>\n",
       "      <td>Argentina</td>\n",
       "    </tr>\n",
       "    <tr>\n",
       "      <th>4</th>\n",
       "      <td>87</td>\n",
       "      <td>2</td>\n",
       "      <td>0.274666</td>\n",
       "      <td>8700000005</td>\n",
       "      <td>2</td>\n",
       "      <td>1</td>\n",
       "      <td>3</td>\n",
       "      <td>2</td>\n",
       "      <td>3</td>\n",
       "      <td>2</td>\n",
       "      <td>...</td>\n",
       "      <td>2</td>\n",
       "      <td>4</td>\n",
       "      <td>2</td>\n",
       "      <td>1</td>\n",
       "      <td>3</td>\n",
       "      <td>1</td>\n",
       "      <td>1</td>\n",
       "      <td>1</td>\n",
       "      <td>2</td>\n",
       "      <td>Argentina</td>\n",
       "    </tr>\n",
       "  </tbody>\n",
       "</table>\n",
       "<p>5 rows × 89 columns</p>\n",
       "</div>"
      ],
      "text/plain": [
       "   WP5  WP22140        WT  RESPONDENT_NUM_TOTAL  WP22070  WP22071  WP22072  \\\n",
       "0   87        1  0.961969            8700000001        2        1        1   \n",
       "1   87        2  0.512150            8700000002        1        1        1   \n",
       "2   87        2  0.277594            8700000003        2        1        1   \n",
       "3   87        1  0.403558            8700000004        1        2        1   \n",
       "4   87        2  0.274666            8700000005        2        1        3   \n",
       "\n",
       "   WP22073  WP22074  WP22075  ... WP3117  WP12  children_age  WP1233RECODED  \\\n",
       "0        2        2        1  ...      2     4             1              1   \n",
       "1        1        1        4  ...      2     3             2              1   \n",
       "2        1        1        1  ...      2     1             2              6   \n",
       "3        2        2        2  ...      2     3             2              6   \n",
       "4        2        3        2  ...      2     4             2              1   \n",
       "\n",
       "   INCOME_5  WP2319  WP4657  WP16056  URBANICITY  COUNTRYNEW  \n",
       "0         3       2       1        1           2   Argentina  \n",
       "1         4       1       1        2           1   Argentina  \n",
       "2         5       2       1        1           2   Argentina  \n",
       "3         1       3       1        1           1   Argentina  \n",
       "4         3       1       1        1           2   Argentina  \n",
       "\n",
       "[5 rows x 89 columns]"
      ]
     },
     "execution_count": 19,
     "metadata": {},
     "output_type": "execute_result"
    }
   ],
   "source": [
    "data.head()"
   ]
  },
  {
   "cell_type": "code",
   "execution_count": 20,
   "id": "3464cf81",
   "metadata": {},
   "outputs": [
    {
     "data": {
      "text/plain": [
       "0.02567109373303472"
      ]
     },
     "execution_count": 20,
     "metadata": {},
     "output_type": "execute_result"
    }
   ],
   "source": [
    "np.corrcoef(children,Religious_minorities)[0,1]"
   ]
  },
  {
   "cell_type": "code",
   "execution_count": 21,
   "id": "4164008b",
   "metadata": {},
   "outputs": [
    {
     "data": {
      "text/plain": [
       "0.024997255898140548"
      ]
     },
     "execution_count": 21,
     "metadata": {},
     "output_type": "execute_result"
    }
   ],
   "source": [
    "np.corrcoef(Racial_and_Religious,children)[0,1]"
   ]
  },
  {
   "cell_type": "code",
   "execution_count": 22,
   "id": "8bc3bfc0",
   "metadata": {},
   "outputs": [
    {
     "data": {
      "text/plain": [
       "0.03243372044474676"
      ]
     },
     "execution_count": 22,
     "metadata": {},
     "output_type": "execute_result"
    }
   ],
   "source": [
    "np.corrcoef(Females_treatment,children)[0,1]"
   ]
  },
  {
   "cell_type": "code",
   "execution_count": 23,
   "id": "8c22bdfe",
   "metadata": {},
   "outputs": [
    {
     "data": {
      "text/html": [
       "<div>\n",
       "<style scoped>\n",
       "    .dataframe tbody tr th:only-of-type {\n",
       "        vertical-align: middle;\n",
       "    }\n",
       "\n",
       "    .dataframe tbody tr th {\n",
       "        vertical-align: top;\n",
       "    }\n",
       "\n",
       "    .dataframe thead th {\n",
       "        text-align: right;\n",
       "    }\n",
       "</style>\n",
       "<table border=\"1\" class=\"dataframe\">\n",
       "  <thead>\n",
       "    <tr style=\"text-align: right;\">\n",
       "      <th></th>\n",
       "      <th>COUNTRYNEW</th>\n",
       "      <th>WP22079</th>\n",
       "    </tr>\n",
       "  </thead>\n",
       "  <tbody>\n",
       "    <tr>\n",
       "      <th>0</th>\n",
       "      <td>Argentina</td>\n",
       "      <td>3</td>\n",
       "    </tr>\n",
       "    <tr>\n",
       "      <th>1</th>\n",
       "      <td>Argentina</td>\n",
       "      <td>1</td>\n",
       "    </tr>\n",
       "    <tr>\n",
       "      <th>2</th>\n",
       "      <td>Argentina</td>\n",
       "      <td>3</td>\n",
       "    </tr>\n",
       "    <tr>\n",
       "      <th>3</th>\n",
       "      <td>Argentina</td>\n",
       "      <td>3</td>\n",
       "    </tr>\n",
       "    <tr>\n",
       "      <th>4</th>\n",
       "      <td>Argentina</td>\n",
       "      <td>3</td>\n",
       "    </tr>\n",
       "    <tr>\n",
       "      <th>...</th>\n",
       "      <td>...</td>\n",
       "      <td>...</td>\n",
       "    </tr>\n",
       "    <tr>\n",
       "      <th>22038</th>\n",
       "      <td>Zimbabwe</td>\n",
       "      <td>3</td>\n",
       "    </tr>\n",
       "    <tr>\n",
       "      <th>22039</th>\n",
       "      <td>Zimbabwe</td>\n",
       "      <td>3</td>\n",
       "    </tr>\n",
       "    <tr>\n",
       "      <th>22040</th>\n",
       "      <td>Zimbabwe</td>\n",
       "      <td>3</td>\n",
       "    </tr>\n",
       "    <tr>\n",
       "      <th>22041</th>\n",
       "      <td>Zimbabwe</td>\n",
       "      <td>3</td>\n",
       "    </tr>\n",
       "    <tr>\n",
       "      <th>22042</th>\n",
       "      <td>Zimbabwe</td>\n",
       "      <td>3</td>\n",
       "    </tr>\n",
       "  </tbody>\n",
       "</table>\n",
       "<p>22043 rows × 2 columns</p>\n",
       "</div>"
      ],
      "text/plain": [
       "      COUNTRYNEW  WP22079\n",
       "0      Argentina        3\n",
       "1      Argentina        1\n",
       "2      Argentina        3\n",
       "3      Argentina        3\n",
       "4      Argentina        3\n",
       "...          ...      ...\n",
       "22038   Zimbabwe        3\n",
       "22039   Zimbabwe        3\n",
       "22040   Zimbabwe        3\n",
       "22041   Zimbabwe        3\n",
       "22042   Zimbabwe        3\n",
       "\n",
       "[22043 rows x 2 columns]"
      ]
     },
     "execution_count": 23,
     "metadata": {},
     "output_type": "execute_result"
    }
   ],
   "source": [
    "Country = data[[\"COUNTRYNEW\", \"WP22079\"]]\n",
    "Country"
   ]
  },
  {
   "cell_type": "code",
   "execution_count": 24,
   "id": "9d489468",
   "metadata": {},
   "outputs": [
    {
     "data": {
      "text/html": [
       "<div>\n",
       "<style scoped>\n",
       "    .dataframe tbody tr th:only-of-type {\n",
       "        vertical-align: middle;\n",
       "    }\n",
       "\n",
       "    .dataframe tbody tr th {\n",
       "        vertical-align: top;\n",
       "    }\n",
       "\n",
       "    .dataframe thead th {\n",
       "        text-align: right;\n",
       "    }\n",
       "</style>\n",
       "<table border=\"1\" class=\"dataframe\">\n",
       "  <thead>\n",
       "    <tr style=\"text-align: right;\">\n",
       "      <th></th>\n",
       "      <th>Countries</th>\n",
       "      <th>Important for girls to know how to cook</th>\n",
       "    </tr>\n",
       "  </thead>\n",
       "  <tbody>\n",
       "    <tr>\n",
       "      <th>1</th>\n",
       "      <td>Mali</td>\n",
       "      <td>661</td>\n",
       "    </tr>\n",
       "    <tr>\n",
       "      <th>2</th>\n",
       "      <td>Lebanon</td>\n",
       "      <td>542</td>\n",
       "    </tr>\n",
       "    <tr>\n",
       "      <th>3</th>\n",
       "      <td>Indonesia</td>\n",
       "      <td>480</td>\n",
       "    </tr>\n",
       "    <tr>\n",
       "      <th>4</th>\n",
       "      <td>India</td>\n",
       "      <td>437</td>\n",
       "    </tr>\n",
       "    <tr>\n",
       "      <th>5</th>\n",
       "      <td>Cameroon</td>\n",
       "      <td>369</td>\n",
       "    </tr>\n",
       "    <tr>\n",
       "      <th>6</th>\n",
       "      <td>Morocco</td>\n",
       "      <td>280</td>\n",
       "    </tr>\n",
       "    <tr>\n",
       "      <th>7</th>\n",
       "      <td>Bangladesh</td>\n",
       "      <td>246</td>\n",
       "    </tr>\n",
       "    <tr>\n",
       "      <th>8</th>\n",
       "      <td>Zimbabwe</td>\n",
       "      <td>226</td>\n",
       "    </tr>\n",
       "    <tr>\n",
       "      <th>9</th>\n",
       "      <td>Ukraine</td>\n",
       "      <td>223</td>\n",
       "    </tr>\n",
       "    <tr>\n",
       "      <th>10</th>\n",
       "      <td>Kenya</td>\n",
       "      <td>208</td>\n",
       "    </tr>\n",
       "    <tr>\n",
       "      <th>11</th>\n",
       "      <td>Japan</td>\n",
       "      <td>158</td>\n",
       "    </tr>\n",
       "    <tr>\n",
       "      <th>12</th>\n",
       "      <td>Nigeria</td>\n",
       "      <td>153</td>\n",
       "    </tr>\n",
       "    <tr>\n",
       "      <th>13</th>\n",
       "      <td>Ethiopia</td>\n",
       "      <td>149</td>\n",
       "    </tr>\n",
       "    <tr>\n",
       "      <th>14</th>\n",
       "      <td>Germany</td>\n",
       "      <td>84</td>\n",
       "    </tr>\n",
       "    <tr>\n",
       "      <th>15</th>\n",
       "      <td>Brazil</td>\n",
       "      <td>80</td>\n",
       "    </tr>\n",
       "    <tr>\n",
       "      <th>16</th>\n",
       "      <td>United States</td>\n",
       "      <td>52</td>\n",
       "    </tr>\n",
       "    <tr>\n",
       "      <th>17</th>\n",
       "      <td>Argentina</td>\n",
       "      <td>47</td>\n",
       "    </tr>\n",
       "    <tr>\n",
       "      <th>18</th>\n",
       "      <td>France</td>\n",
       "      <td>44</td>\n",
       "    </tr>\n",
       "    <tr>\n",
       "      <th>19</th>\n",
       "      <td>Peru</td>\n",
       "      <td>44</td>\n",
       "    </tr>\n",
       "    <tr>\n",
       "      <th>20</th>\n",
       "      <td>Spain</td>\n",
       "      <td>41</td>\n",
       "    </tr>\n",
       "    <tr>\n",
       "      <th>21</th>\n",
       "      <td>United Kingdom</td>\n",
       "      <td>33</td>\n",
       "    </tr>\n",
       "  </tbody>\n",
       "</table>\n",
       "</div>"
      ],
      "text/plain": [
       "         Countries  Important for girls to know how to cook\n",
       "1             Mali                                      661\n",
       "2          Lebanon                                      542\n",
       "3        Indonesia                                      480\n",
       "4            India                                      437\n",
       "5         Cameroon                                      369\n",
       "6          Morocco                                      280\n",
       "7       Bangladesh                                      246\n",
       "8         Zimbabwe                                      226\n",
       "9          Ukraine                                      223\n",
       "10           Kenya                                      208\n",
       "11           Japan                                      158\n",
       "12         Nigeria                                      153\n",
       "13        Ethiopia                                      149\n",
       "14         Germany                                       84\n",
       "15          Brazil                                       80\n",
       "16   United States                                       52\n",
       "17       Argentina                                       47\n",
       "18          France                                       44\n",
       "19            Peru                                       44\n",
       "20           Spain                                       41\n",
       "21  United Kingdom                                       33"
      ]
     },
     "execution_count": 24,
     "metadata": {},
     "output_type": "execute_result"
    }
   ],
   "source": [
    "df = Country[(Country.WP22079 == 1)]\n",
    "dfnew = df.COUNTRYNEW.value_counts().reset_index(name='Important for girls to know how to cook')\n",
    "dfnew. rename(columns = {'index':'Countries'}, inplace = True)\n",
    "dfnew\n",
    "\n",
    "dfnew.index += 1 \n",
    "\n",
    "dfnew\n"
   ]
  },
  {
   "cell_type": "code",
   "execution_count": 25,
   "id": "41d1e09b",
   "metadata": {},
   "outputs": [
    {
     "data": {
      "text/html": [
       "<div>\n",
       "<style scoped>\n",
       "    .dataframe tbody tr th:only-of-type {\n",
       "        vertical-align: middle;\n",
       "    }\n",
       "\n",
       "    .dataframe tbody tr th {\n",
       "        vertical-align: top;\n",
       "    }\n",
       "\n",
       "    .dataframe thead th {\n",
       "        text-align: right;\n",
       "    }\n",
       "</style>\n",
       "<table border=\"1\" class=\"dataframe\">\n",
       "  <thead>\n",
       "    <tr style=\"text-align: right;\">\n",
       "      <th></th>\n",
       "      <th>Countries</th>\n",
       "      <th>Equally important for girls and boys to cook</th>\n",
       "    </tr>\n",
       "  </thead>\n",
       "  <tbody>\n",
       "    <tr>\n",
       "      <th>1</th>\n",
       "      <td>United States</td>\n",
       "      <td>1231</td>\n",
       "    </tr>\n",
       "    <tr>\n",
       "      <th>2</th>\n",
       "      <td>India</td>\n",
       "      <td>1033</td>\n",
       "    </tr>\n",
       "    <tr>\n",
       "      <th>3</th>\n",
       "      <td>Peru</td>\n",
       "      <td>950</td>\n",
       "    </tr>\n",
       "    <tr>\n",
       "      <th>4</th>\n",
       "      <td>United Kingdom</td>\n",
       "      <td>946</td>\n",
       "    </tr>\n",
       "    <tr>\n",
       "      <th>5</th>\n",
       "      <td>Argentina</td>\n",
       "      <td>943</td>\n",
       "    </tr>\n",
       "    <tr>\n",
       "      <th>6</th>\n",
       "      <td>France</td>\n",
       "      <td>943</td>\n",
       "    </tr>\n",
       "    <tr>\n",
       "      <th>7</th>\n",
       "      <td>Spain</td>\n",
       "      <td>940</td>\n",
       "    </tr>\n",
       "    <tr>\n",
       "      <th>8</th>\n",
       "      <td>Brazil</td>\n",
       "      <td>921</td>\n",
       "    </tr>\n",
       "    <tr>\n",
       "      <th>9</th>\n",
       "      <td>Germany</td>\n",
       "      <td>899</td>\n",
       "    </tr>\n",
       "    <tr>\n",
       "      <th>10</th>\n",
       "      <td>Ethiopia</td>\n",
       "      <td>879</td>\n",
       "    </tr>\n",
       "    <tr>\n",
       "      <th>11</th>\n",
       "      <td>Nigeria</td>\n",
       "      <td>863</td>\n",
       "    </tr>\n",
       "    <tr>\n",
       "      <th>12</th>\n",
       "      <td>Japan</td>\n",
       "      <td>846</td>\n",
       "    </tr>\n",
       "    <tr>\n",
       "      <th>13</th>\n",
       "      <td>Zimbabwe</td>\n",
       "      <td>802</td>\n",
       "    </tr>\n",
       "    <tr>\n",
       "      <th>14</th>\n",
       "      <td>Kenya</td>\n",
       "      <td>792</td>\n",
       "    </tr>\n",
       "    <tr>\n",
       "      <th>15</th>\n",
       "      <td>Ukraine</td>\n",
       "      <td>771</td>\n",
       "    </tr>\n",
       "    <tr>\n",
       "      <th>16</th>\n",
       "      <td>Bangladesh</td>\n",
       "      <td>752</td>\n",
       "    </tr>\n",
       "    <tr>\n",
       "      <th>17</th>\n",
       "      <td>Morocco</td>\n",
       "      <td>711</td>\n",
       "    </tr>\n",
       "    <tr>\n",
       "      <th>18</th>\n",
       "      <td>Cameroon</td>\n",
       "      <td>608</td>\n",
       "    </tr>\n",
       "    <tr>\n",
       "      <th>19</th>\n",
       "      <td>Indonesia</td>\n",
       "      <td>556</td>\n",
       "    </tr>\n",
       "    <tr>\n",
       "      <th>20</th>\n",
       "      <td>Lebanon</td>\n",
       "      <td>465</td>\n",
       "    </tr>\n",
       "    <tr>\n",
       "      <th>21</th>\n",
       "      <td>Mali</td>\n",
       "      <td>323</td>\n",
       "    </tr>\n",
       "  </tbody>\n",
       "</table>\n",
       "</div>"
      ],
      "text/plain": [
       "         Countries  Equally important for girls and boys to cook\n",
       "1    United States                                          1231\n",
       "2            India                                          1033\n",
       "3             Peru                                           950\n",
       "4   United Kingdom                                           946\n",
       "5        Argentina                                           943\n",
       "6           France                                           943\n",
       "7            Spain                                           940\n",
       "8           Brazil                                           921\n",
       "9          Germany                                           899\n",
       "10        Ethiopia                                           879\n",
       "11         Nigeria                                           863\n",
       "12           Japan                                           846\n",
       "13        Zimbabwe                                           802\n",
       "14           Kenya                                           792\n",
       "15         Ukraine                                           771\n",
       "16      Bangladesh                                           752\n",
       "17         Morocco                                           711\n",
       "18        Cameroon                                           608\n",
       "19       Indonesia                                           556\n",
       "20         Lebanon                                           465\n",
       "21            Mali                                           323"
      ]
     },
     "execution_count": 25,
     "metadata": {},
     "output_type": "execute_result"
    }
   ],
   "source": [
    "df2 = Country[(Country.WP22079 == 3)]\n",
    "df2\n",
    "\n",
    "dfnew2 = df2.COUNTRYNEW.value_counts().reset_index(name='Equally important for girls and boys to cook')\n",
    "dfnew2\n",
    "\n",
    "dfnew2. rename(columns = {'index':'Countries'}, inplace = True)\n",
    "dfnew2\n",
    "\n",
    "dfnew2.index += 1 \n",
    "\n",
    "dfnew2\n",
    "\n",
    "\n",
    "#dfnew2[\"Countries\"] = dfnew2[\"Countries\"].replace({\"United States\":\"North America\"})\n",
    "\n",
    "#dfnew2"
   ]
  },
  {
   "cell_type": "code",
   "execution_count": 29,
   "id": "5ceeef6b",
   "metadata": {},
   "outputs": [],
   "source": [
    "import folium\n",
    "import geopandas\n",
    "\n",
    "# Read the geopandas dataset\n",
    "world = geopandas.read_file(\"/Users/anshuldixit/Downloads/IPUMSI_world_release2020/world_countries_2020.shp\")\n",
    "\n",
    "\n",
    "\n",
    "# Merge the two DataFrames together\n",
    "table1 = world.merge(dfnew, how=\"left\", left_on=['CNTRY_NAME'], right_on=['Countries'])\n"
   ]
  },
  {
   "cell_type": "code",
   "execution_count": 28,
   "id": "7d5647bc",
   "metadata": {},
   "outputs": [
    {
     "name": "stdout",
     "output_type": "stream",
     "text": [
      "The United Arab Emirates matches\n",
      "The United Kingdom matches\n",
      "The United States matches\n"
     ]
    }
   ],
   "source": [
    "\n",
    "import re\n",
    "pattern = re.compile(r'United')\n",
    "\n",
    "\n",
    "\n",
    "for word in world.CNTRY_NAME:\n",
    "\n",
    "    if re.match(pattern, word):\n",
    "        print(f'The {word} matches')"
   ]
  },
  {
   "cell_type": "code",
   "execution_count": 34,
   "id": "9bcf0322",
   "metadata": {},
   "outputs": [],
   "source": [
    "# Clean data: remove rows with no data\n",
    "# Create a map\n",
    "my_map = folium.Map()\n",
    "# Add the data\n",
    "folium.Choropleth(\n",
    "    geo_data= table1,\n",
    "    nan_fill_color = \"White\",\n",
    "    name='Gender based discrimination on cooking skills',\n",
    "    data=table1,\n",
    "    columns=['Countries', 'Important for girls to know how to cook'],\n",
    "    key_on='feature.properties.CNTRY_NAME',\n",
    "    fill_color='OrRd',\n",
    "    fill_opacity=0.7,\n",
    "    line_opacity=0.2,\n",
    "    legend_name='Learning how to cook is more important for girls: least to highest'\n",
    ").add_to(my_map)\n",
    "my_map.save('girls.html')"
   ]
  },
  {
   "cell_type": "code",
   "execution_count": 50,
   "id": "e594fc8a",
   "metadata": {},
   "outputs": [],
   "source": [
    "import folium\n",
    "import geopandas\n",
    "import fiona\n",
    "\n",
    "# Read the geopandas dataset\n",
    "#world = geopandas.read_file(geopandas.datasets.get_path('naturalearth_lowres'))\n",
    "\n",
    "world = geopandas.read_file(\"/Users/anshuldixit/Downloads/IPUMSI_world_release2020/world_countries_2020.shp\")\n",
    "\n",
    "# Merge the two DataFrames together\n",
    "table = world.merge(dfnew2, how=\"left\", left_on=['CNTRY_NAME'], right_on=['Countries'])\n"
   ]
  },
  {
   "cell_type": "code",
   "execution_count": 51,
   "id": "69939e23",
   "metadata": {},
   "outputs": [],
   "source": [
    "# Clean data: remove rows with no data\n",
    "# Create a map\n",
    "my_map = folium.Map()\n",
    "# Add the data\n",
    "folium.Choropleth(\n",
    "    nan_fill_color = \"White\",\n",
    "    geo_data = table,\n",
    "    name='Gender based discrimination on cooking skills',\n",
    "    data=table,\n",
    "    columns=['Countries', 'Equally important for girls and boys to cook'],\n",
    "    key_on='feature.properties.CNTRY_NAME',\n",
    "    fill_color='BuGn',\n",
    "    fill_opacity=0.7,\n",
    "    line_opacity=0.2,\n",
    "    legend_name='Countries that think learning how to cook is important for both'\n",
    ").add_to(my_map)\n",
    "my_map.save('equal2.html')"
   ]
  },
  {
   "cell_type": "code",
   "execution_count": 96,
   "id": "68bbe8ac",
   "metadata": {},
   "outputs": [
    {
     "name": "stderr",
     "output_type": "stream",
     "text": [
      "/Users/anshuldixit/opt/anaconda3/envs/geo_env/lib/python3.10/site-packages/seaborn/_decorators.py:36: FutureWarning: Pass the following variables as keyword args: x, y. From version 0.12, the only valid positional argument will be `data`, and passing other arguments without an explicit keyword will result in an error or misinterpretation.\n",
      "  warnings.warn(\n"
     ]
    },
    {
     "data": {
      "image/png": "[encoded data removed]",
      "text/plain": [
       "<Figure size 360x360 with 1 Axes>"
      ]
     },
     "metadata": {
      "needs_background": "light"
     },
     "output_type": "display_data"
    }
   ],
   "source": [
    "datan1 = data[[\"children_age\", \"WP22079\"]]\n",
    "\n",
    "ss= sns.relplot(\"children_age\", \"WP22079\", data = data, kind = \"line\",color = \"red\")\n"
   ]
  },
  {
   "cell_type": "code",
   "execution_count": null,
   "id": "9883101e",
   "metadata": {},
   "outputs": [],
   "source": []
  }
 ],
 "metadata": {
  "kernelspec": {
   "display_name": "Python [conda env:geo_env]",
   "language": "python",
   "name": "conda-env-geo_env-py"
  },
  "language_info": {
   "codemirror_mode": {
    "name": "ipython",
    "version": 3
   },
   "file_extension": ".py",
   "mimetype": "text/x-python",
   "name": "python",
   "nbconvert_exporter": "python",
   "pygments_lexer": "ipython3",
   "version": "3.10.1"
  }
 },
 "nbformat": 4,
 "nbformat_minor": 5
}
